{
 "cells": [
  {
   "cell_type": "code",
   "execution_count": 1,
   "metadata": {},
   "outputs": [],
   "source": [
    "import numpy as np\n",
    "import os, sys"
   ]
  },
  {
   "cell_type": "code",
   "execution_count": null,
   "metadata": {},
   "outputs": [],
   "source": [
    "train_data_root = '/data/fz20/dataset/ABC/train_final'\n",
    "val_data_root = '/data/fz20/dataset/ABC/val_final'"
   ]
  },
  {
   "cell_type": "code",
   "execution_count": null,
   "metadata": {},
   "outputs": [],
   "source": [
    "train_list = sorted(os.listdir(train_data_root))\n",
    "val_list = sorted(os.listdir(val_data_root))"
   ]
  },
  {
   "cell_type": "code",
   "execution_count": null,
   "metadata": {},
   "outputs": [],
   "source": [
    "# 计算模型实例label的最大值\n",
    "label_max = 0\n",
    "for i in train_list:\n",
    "    data_path = os.path.join(train_data_root, i)\n",
    "    data = np.load(data_path)\n",
    "    coord, normals, boundary, label, semantic, param, F, edges = data['V'],data['N'],data['B'],data['L'],data['S'],data['T_param'],data['F'],data['edges']\n",
    "    if np.max(label) > label_max:\n",
    "        label_max = np.max(label)\n",
    "label_max"
   ]
  },
  {
   "cell_type": "code",
   "execution_count": 10,
   "metadata": {},
   "outputs": [
    {
     "data": {
      "text/plain": [
       "285"
      ]
     },
     "execution_count": 10,
     "metadata": {},
     "output_type": "execute_result"
    }
   ],
   "source": [
    "# 计算含有B样条曲面的模型数量\n",
    "with_bspline_model = 0\n",
    "b_spline = [0,6,7,9,2,8]\n",
    "for i in val_list:\n",
    "    data_path = os.path.join(val_data_root, i)\n",
    "    data = np.load(data_path)\n",
    "    coord, normals, boundary, label, semantic, param, F, edges = data['V'],data['N'],data['B'],data['L'],data['S'],data['T_param'],data['F'],data['edges']\n",
    "    for num in b_spline:\n",
    "        if num in semantic:\n",
    "            with_bspline_model += 1\n",
    "            break\n",
    "with_bspline_model"
   ]
  },
  {
   "cell_type": "code",
   "execution_count": 6,
   "metadata": {},
   "outputs": [
    {
     "name": "stdout",
     "output_type": "stream",
     "text": [
      "Jupyter environment detected. Enabling Open3D WebVisualizer.\n",
      "[Open3D INFO] WebRTC GUI backend enabled.\n",
      "[Open3D INFO] WebRTCWindowSystem: HTTP handshake server disabled.\n"
     ]
    },
    {
     "data": {
      "text/plain": [
       "True"
      ]
     },
     "execution_count": 6,
     "metadata": {},
     "output_type": "execute_result"
    }
   ],
   "source": [
    "data = np.load('/data/fz20/dataset/ABC/val_final/00000060_767e4372b5f94a88a7a17d90.npz')\n",
    "coord, normals, boundary, label, semantic, param, F, edges = data['V'],data['N'],data['B'],data['L'],data['S'],data['T_param'],data['F'],data['edges']\n",
    "# 写入ply文件\n",
    "import open3d as o3d\n",
    "pcd = o3d.geometry.PointCloud()\n",
    "pcd.points = o3d.utility.Vector3dVector(coord)\n",
    "pcd.normals = o3d.utility.Vector3dVector(normals)\n",
    "o3d.io.write_point_cloud('test.ply', pcd)"
   ]
  },
  {
   "cell_type": "code",
   "execution_count": 3,
   "metadata": {},
   "outputs": [
    {
     "name": "stdout",
     "output_type": "stream",
     "text": [
      "V (18746, 3)\n",
      "N (18746, 3)\n",
      "B (18746,)\n",
      "L (18746,)\n",
      "S (18746,)\n",
      "T_param (18746, 22)\n",
      "F (37500, 3)\n",
      "edges (18746, 47)\n"
     ]
    }
   ],
   "source": [
    "abc = '/data/fz20/dataset/ABC/val_final/00000065_767e4372b5f94a88a7a17d90.npz'\n",
    "abc_dict = np.load(abc)\n",
    "for key, value in abc_dict.items():\n",
    "    print(key, value.shape)"
   ]
  },
  {
   "cell_type": "code",
   "execution_count": 5,
   "metadata": {},
   "outputs": [
    {
     "name": "stdout",
     "output_type": "stream",
     "text": [
      "V (18746, 3)\n",
      "N (18746, 3)\n",
      "B (18746,)\n",
      "L (18746,)\n",
      "S (18746,)\n",
      "T_param (18746, 22)\n",
      "F (37500, 3)\n"
     ]
    }
   ],
   "source": [
    "abc_old = '/data/fz20/dataset/ABC-old/ABC/val_final/00000065_767e4372b5f94a88a7a17d90.npz'\n",
    "abc_old_dict = np.load(abc_old)\n",
    "for key, value in abc_old_dict.items():\n",
    "    print(key, value.shape)"
   ]
  },
  {
   "cell_type": "code",
   "execution_count": 4,
   "metadata": {},
   "outputs": [
    {
     "name": "stdout",
     "output_type": "stream",
     "text": [
      "V (18746, 3)\n",
      "N (18746, 3)\n",
      "B (18746,)\n",
      "L (18746,)\n",
      "S (18746,)\n",
      "T_param (18746, 22)\n",
      "F (37500, 3)\n",
      "edges (18746,)\n"
     ]
    }
   ],
   "source": [
    "abc_old_edges = '/data/fz20/dataset/ABC-old/ABC_edges/val_final/00000065_767e4372b5f94a88a7a17d90.npz'\n",
    "abc_old_edges_dict = np.load(abc_old_edges, allow_pickle=True)\n",
    "for key, value in abc_old_edges_dict.items():\n",
    "    print(key, value.shape)"
   ]
  },
  {
   "cell_type": "code",
   "execution_count": 5,
   "metadata": {},
   "outputs": [
    {
     "name": "stdout",
     "output_type": "stream",
     "text": [
      "Jupyter environment detected. Enabling Open3D WebVisualizer.\n",
      "[Open3D INFO] WebRTC GUI backend enabled.\n",
      "[Open3D INFO] WebRTCWindowSystem: HTTP handshake server disabled.\n"
     ]
    },
    {
     "data": {
      "text/plain": [
       "True"
      ]
     },
     "execution_count": 5,
     "metadata": {},
     "output_type": "execute_result"
    }
   ],
   "source": [
    "cad_root = '/data1/fz20/dataset/sp_dataset/val_final/00000006_d4fe04f0f5f84b52bd4f10e4.npz'\n",
    "cad_dict = np.load(cad_root)\n",
    "# for key, value in cad_dict.items():\n",
    "#     print(key, value.shape)\n",
    "v, semantic = cad_dict['V'], cad_dict['semantic']\n",
    "# 可视化语义标签\n",
    "import open3d as o3d\n",
    "pcd = o3d.geometry.PointCloud()\n",
    "pcd.points = o3d.utility.Vector3dVector(v)\n",
    "colors = np.random.uniform(0, 1, size=(len(v), 3))\n",
    "pcd.colors = o3d.utility.Vector3dVector(colors[semantic])\n",
    "o3d.io.write_point_cloud('test-semantic.ply', pcd)"
   ]
  },
  {
   "cell_type": "code",
   "execution_count": 40,
   "metadata": {},
   "outputs": [
    {
     "name": "stdout",
     "output_type": "stream",
     "text": [
      "Jupyter environment detected. Enabling Open3D WebVisualizer.\n",
      "[Open3D INFO] WebRTC GUI backend enabled.\n",
      "[Open3D INFO] WebRTCWindowSystem: HTTP handshake server disabled.\n"
     ]
    }
   ],
   "source": [
    "import numpy as np\n",
    "import open3d as o3d\n",
    "import os\n",
    "import h5py\n",
    "\n",
    "object_label = {\n",
    "            0: [0   ,   0,   0], #unlabelled .->. black\n",
    "            1: [0,255,0], #'ceiling' .-> .green 天花板\n",
    "            2: [0,0,255], #'floor' .-> . blue   地板\n",
    "            3: [0,255,255], #'wall'  ->  Cyan(青色) 墙\n",
    "            4: [255,0,255], #'column'  ->  Fuchsia（紫红色）    柱子\n",
    "            5: [255,255,0], #'beam'  ->  yellow 梁\n",
    "            6: [100,100,255], #'window'  ->  Baby blue（宝宝蓝）    窗户\n",
    "            7: [200,200,100], #'door'   ->  Olive green（橄榄绿）   门\n",
    "            8: [170,120,200], #'table'  ->  Lavender（薰衣草色）    桌子\n",
    "            9: [255,0,0], #'chair'  ->  red 椅子\n",
    "            10:[10,200,100], #'bookcase'  ->  Forest green（森林绿） 书架\n",
    "            11:[200,100,100], #'sofa'  ->  Crimson（绯红色）    沙发\n",
    "            12: [200,200,200], #'board'   ->  Light gray（浅灰色）  黑板\n",
    "            13: [50,50,50], #'clutter'  ->  Dark gray（深灰色）  杂乱的东西\n",
    "        }\n",
    "color_map = [\n",
    "        {\"label\": \"ceiling\",\"id\": 1,\"color\": [152,223,138]}, \n",
    "        {\"label\": \"floor\",\"id\": 2,\"color\": [174,199,232]},\n",
    "        {\"label\": \"wall\",\"id\": 3,\"color\": [255,127,14]},  \n",
    "        {\"label\": \"beam\",\"id\": 4,\"color\": [91,163,138]}, \n",
    "        {\"label\": \"column\",\"id\": 5,\"color\": [255,187,120]},\n",
    "        {\"label\": \"window\",\"id\": 6,\"color\": [188,189,34]},\n",
    "        {\"label\": \"door\",\"id\": 7,\"color\": [140,86,75]}, \n",
    "        {\"label\": \"table\",\"id\": 8,\"color\": [255,152,150]},\n",
    "        {\"label\": \"chair\",\"id\": 9,\"color\": [214,39,40]}, \n",
    "        {\"label\": \"sofa\",\"id\": 10,\"color\": [197,176,213]},\n",
    "        {\"label\": \"bookcase\",\"id\": 11,\"color\": [196,156,148]},\n",
    "        {\"label\": \"board\",\"id\": 12,\"color\": [23,190,207]}, \n",
    "        {\"label\": \"clutter\",\"id\": 13,\"color\": [112,128,144]}\n",
    "]\n",
    "write_root = '/data1/fz20/dataset/s3dis_visual/sem'\n",
    "data_root = '/data/fz20/dataset/S3DIS/Stanford3dDataset_v1.2_Aligned_Version/features_supervision'\n",
    "data_list = sorted(os.listdir(data_root))\n",
    "for i in data_list:\n",
    "    data_path = os.path.join(data_root, i)\n",
    "    file_list = sorted(os.listdir(data_path))\n",
    "    for j in file_list:\n",
    "        file_path = os.path.join(data_path, j)\n",
    "        data = h5py.File(file_path, 'r')\n",
    "        xyz = np.array(data['xyz'], dtype='float32')\n",
    "        rgb = np.array(data['rgb'], dtype='float32')\n",
    "        labels = np.array(data['labels']).squeeze()\n",
    "        pcd = o3d.geometry.PointCloud()\n",
    "        pcd.points = o3d.utility.Vector3dVector(xyz)\n",
    "        # pcd.colors = o3d.utility.Vector3dVector(rgb / 255)\n",
    "        sem_colors = np.zeros((len(xyz), 3))\n",
    "        labels = np.argmax(labels, axis=1)\n",
    "        # labels = labels[:, 1:].argmax(axis=1)\n",
    "        for k in range(14):\n",
    "            sem_colors[labels == k] = object_label[k]\n",
    "        pcd.colors = o3d.utility.Vector3dVector(sem_colors / 255)\n",
    "        if not os.path.exists(os.path.join(write_root, i)):\n",
    "            os.makedirs(os.path.join(write_root, i))\n",
    "        o3d.io.write_point_cloud(os.path.join(write_root, i, j)[:-3] + '_sem.ply', pcd)\n"
   ]
  },
  {
   "cell_type": "code",
   "execution_count": 39,
   "metadata": {},
   "outputs": [
    {
     "data": {
      "image/png": "[encoded data removed]",
      "text/plain": [
       "<Figure size 1000x100 with 1 Axes>"
      ]
     },
     "metadata": {},
     "output_type": "display_data"
    }
   ],
   "source": [
    "import matplotlib.pyplot as plt\n",
    "import numpy as np\n",
    "\n",
    "# 生成13个随机颜色和名称\n",
    "object_label = {\n",
    "            0: [0   ,   0,   0], #unlabelled .->. black\n",
    "            1: [0,255,0], #'ceiling' .-> .green\n",
    "            2: [0,0,255], #'floor' .-> . blue\n",
    "            3: [0,255,255], #'wall'  ->  Cyan(青色)\n",
    "            4: [255,0,255], #'column'  ->  Fuchsia（紫红色）\n",
    "            5: [255,255,0], #'beam'  ->  yellow\n",
    "            6: [100,100,255], #'window'  ->  Baby blue（宝宝蓝）\n",
    "            7: [200,200,100], #'door'   ->  Olive green（橄榄绿）\n",
    "            8: [170,120,200], #'table'  ->  Lavender（薰衣草色）\n",
    "            9: [255,0,0], #'chair'  ->  red\n",
    "            10:[10,200,100], #'bookcase'  ->  Forest green（森林绿）\n",
    "            11:[200,100,100], #'sofa'  ->  Crimson（绯红色）\n",
    "            12: [200,200,200], #'board'   ->  Light gray（浅灰色）\n",
    "            13: [50,50,50], #'clutter'  ->  Dark gray（深灰色）\n",
    "        }\n",
    "colors = np.zeros((14, 3))\n",
    "for i in range(14):\n",
    "    colors[i] = object_label[i]\n",
    "colors = np.array(colors) / 255\n",
    "names = ['unlabelled', 'ceiling', 'floor', 'wall', 'column', \n",
    "         'beam', 'window', 'door', 'table', 'chair', \n",
    "         'bookcase', 'sofa', 'board', 'clutter']\n",
    "\n",
    "# 创建图例\n",
    "fig, ax = plt.subplots(figsize=(10, 1))\n",
    "for i in range(14):\n",
    "    ax.bar(i, 1, color=colors[i], label=names[i])\n",
    "\n",
    "# 关闭坐标轴\n",
    "ax.set_axis_off()\n",
    "\n",
    "# 添加图例\n",
    "plt.legend(loc='center', ncol=14, bbox_to_anchor=(0.5, -0.3))\n",
    "\n",
    "# 保存图像\n",
    "plt.savefig('semseg_color.png', dpi=300, bbox_inches='tight')"
   ]
  },
  {
   "cell_type": "code",
   "execution_count": null,
   "metadata": {},
   "outputs": [],
   "source": [
    "import h5py\n",
    "import numpy as np\n",
    "import os\n",
    "\n",
    "count = 0\n",
    "file_list = sorted(os.listdir('/data1/fz20/dataset/sp_s3dis_dataset/Area_1'))\n",
    "# file_dir = '/data1/fz20/dataset/sp_s3dis_dataset/Area_1/hallway_1.h5'\n",
    "for i in file_list:\n",
    "    file_dir = os.path.join('/data1/fz20/dataset/sp_s3dis_dataset/Area_1', i)\n",
    "    data = h5py.File(file_dir, 'r')\n",
    "    T_param = np.array(data['T_param'])\n",
    "    # print(T_param[:, 15:])\n",
    "    if False in (T_param[:, 15:] == 0):\n",
    "        count += 1\n",
    "\n",
    "print(count)"
   ]
  },
  {
   "cell_type": "code",
   "execution_count": 6,
   "metadata": {},
   "outputs": [
    {
     "data": {
      "text/plain": [
       "True"
      ]
     },
     "execution_count": 6,
     "metadata": {},
     "output_type": "execute_result"
    }
   ],
   "source": [
    "# 测试vkitti数据集\n",
    "\n",
    "import numpy as np\n",
    "import open3d as o3d\n",
    "\n",
    "kitti_1 = np.load('/data1/fz20/dataset/sp_vkitti_dataset/vkitti3d_dataset_v1.0/data/01/0001_00000.npy')\n",
    "xyz = kitti_1[:, :3]\n",
    "rgb = kitti_1[:, 3:6]\n",
    "label = kitti_1[:, 6].astype(np.int32)\n",
    "colors = np.random.uniform(0, 1, size=(len(xyz), 3))\n",
    "\n",
    "pcd = o3d.geometry.PointCloud()\n",
    "pcd.points = o3d.utility.Vector3dVector(xyz)\n",
    "pcd.colors = o3d.utility.Vector3dVector(colors[label])\n",
    "o3d.io.write_point_cloud('test-sem.ply', pcd)"
   ]
  },
  {
   "cell_type": "code",
   "execution_count": 9,
   "metadata": {},
   "outputs": [],
   "source": [
    "import os \n",
    "import shutil\n",
    "\n",
    "process_root = '/data1/fz20/dataset/S3DIS/Stanford3dDataset_v1.2_Aligned_Version/superpoint_graphs_ours'\n",
    "\n",
    "path = os.path.join(process_root, 'Area_5/')\n",
    "# target_path = os.path.join(process_root, 'Area_5/')\n",
    "for fname in os.listdir(path):\n",
    "    if fname.startswith('Area_5_'):\n",
    "        # shutil.move(path+fname, target_path+fname[7:])\n",
    "        os.rename(path+fname, path+fname[12:])"
   ]
  },
  {
   "cell_type": "code",
   "execution_count": 6,
   "metadata": {},
   "outputs": [
    {
     "name": "stdout",
     "output_type": "stream",
     "text": [
      "<KeysViewHDF5 ['elevation', 'geof', 'is_transition', 'labels', 'objects', 'rgb', 'source', 'target', 'target_local_geometry', 'xyn', 'xyz']>\n",
      "(134536, 14)\n",
      "36\n"
     ]
    }
   ],
   "source": [
    "import numpy as np\n",
    "import h5py\n",
    "\n",
    "data = h5py.File('/data1/fz20/dataset/S3DIS/Stanford3dDataset_v1.2_Aligned_Version/features_supervision/Area_1/conferenceRoom_1.h5', 'r')\n",
    "print(data.keys())\n",
    "print(data['labels'].shape)\n",
    "print(np.array(data['labels']).max())\n",
    "# # components = data['components']\n",
    "# numc = len(data['components'].keys())\n",
    "# for c in range(numc):\n",
    "#     idx = data['components/{:d}'.format(c)][:].flatten()\n",
    "\n",
    "# data['in_component']"
   ]
  }
 ],
 "metadata": {
  "kernelspec": {
   "display_name": "env1",
   "language": "python",
   "name": "python3"
  },
  "language_info": {
   "codemirror_mode": {
    "name": "ipython",
    "version": 3
   },
   "file_extension": ".py",
   "mimetype": "text/x-python",
   "name": "python",
   "nbconvert_exporter": "python",
   "pygments_lexer": "ipython3",
   "version": "3.7.13"
  },
  "orig_nbformat": 4
 },
 "nbformat": 4,
 "nbformat_minor": 2
}
