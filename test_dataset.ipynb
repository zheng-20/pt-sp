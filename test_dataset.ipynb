{
 "cells": [
  {
   "cell_type": "code",
   "execution_count": 1,
   "metadata": {},
   "outputs": [],
   "source": [
    "import numpy as np\n",
    "import os, sys"
   ]
  },
  {
   "cell_type": "code",
   "execution_count": null,
   "metadata": {},
   "outputs": [],
   "source": [
    "train_data_root = '/data/fz20/dataset/ABC/train_final'\n",
    "val_data_root = '/data/fz20/dataset/ABC/val_final'"
   ]
  },
  {
   "cell_type": "code",
   "execution_count": null,
   "metadata": {},
   "outputs": [],
   "source": [
    "train_list = sorted(os.listdir(train_data_root))\n",
    "val_list = sorted(os.listdir(val_data_root))"
   ]
  },
  {
   "cell_type": "code",
   "execution_count": null,
   "metadata": {},
   "outputs": [],
   "source": [
    "# 计算模型实例label的最大值\n",
    "label_max = 0\n",
    "for i in train_list:\n",
    "    data_path = os.path.join(train_data_root, i)\n",
    "    data = np.load(data_path)\n",
    "    coord, normals, boundary, label, semantic, param, F, edges = data['V'],data['N'],data['B'],data['L'],data['S'],data['T_param'],data['F'],data['edges']\n",
    "    if np.max(label) > label_max:\n",
    "        label_max = np.max(label)\n",
    "label_max"
   ]
  },
  {
   "cell_type": "code",
   "execution_count": 10,
   "metadata": {},
   "outputs": [
    {
     "data": {
      "text/plain": [
       "285"
      ]
     },
     "execution_count": 10,
     "metadata": {},
     "output_type": "execute_result"
    }
   ],
   "source": [
    "# 计算含有B样条曲面的模型数量\n",
    "with_bspline_model = 0\n",
    "b_spline = [0,6,7,9,2,8]\n",
    "for i in val_list:\n",
    "    data_path = os.path.join(val_data_root, i)\n",
    "    data = np.load(data_path)\n",
    "    coord, normals, boundary, label, semantic, param, F, edges = data['V'],data['N'],data['B'],data['L'],data['S'],data['T_param'],data['F'],data['edges']\n",
    "    for num in b_spline:\n",
    "        if num in semantic:\n",
    "            with_bspline_model += 1\n",
    "            break\n",
    "with_bspline_model"
   ]
  },
  {
   "cell_type": "code",
   "execution_count": 6,
   "metadata": {},
   "outputs": [
    {
     "name": "stdout",
     "output_type": "stream",
     "text": [
      "Jupyter environment detected. Enabling Open3D WebVisualizer.\n",
      "[Open3D INFO] WebRTC GUI backend enabled.\n",
      "[Open3D INFO] WebRTCWindowSystem: HTTP handshake server disabled.\n"
     ]
    },
    {
     "data": {
      "text/plain": [
       "True"
      ]
     },
     "execution_count": 6,
     "metadata": {},
     "output_type": "execute_result"
    }
   ],
   "source": [
    "data = np.load('/data/fz20/dataset/ABC/val_final/00000060_767e4372b5f94a88a7a17d90.npz')\n",
    "coord, normals, boundary, label, semantic, param, F, edges = data['V'],data['N'],data['B'],data['L'],data['S'],data['T_param'],data['F'],data['edges']\n",
    "# 写入ply文件\n",
    "import open3d as o3d\n",
    "pcd = o3d.geometry.PointCloud()\n",
    "pcd.points = o3d.utility.Vector3dVector(coord)\n",
    "pcd.normals = o3d.utility.Vector3dVector(normals)\n",
    "o3d.io.write_point_cloud('test.ply', pcd)"
   ]
  },
  {
   "cell_type": "code",
   "execution_count": 3,
   "metadata": {},
   "outputs": [
    {
     "name": "stdout",
     "output_type": "stream",
     "text": [
      "V (18746, 3)\n",
      "N (18746, 3)\n",
      "B (18746,)\n",
      "L (18746,)\n",
      "S (18746,)\n",
      "T_param (18746, 22)\n",
      "F (37500, 3)\n",
      "edges (18746, 47)\n"
     ]
    }
   ],
   "source": [
    "abc = '/data/fz20/dataset/ABC/val_final/00000065_767e4372b5f94a88a7a17d90.npz'\n",
    "abc_dict = np.load(abc)\n",
    "for key, value in abc_dict.items():\n",
    "    print(key, value.shape)"
   ]
  },
  {
   "cell_type": "code",
   "execution_count": 5,
   "metadata": {},
   "outputs": [
    {
     "name": "stdout",
     "output_type": "stream",
     "text": [
      "V (18746, 3)\n",
      "N (18746, 3)\n",
      "B (18746,)\n",
      "L (18746,)\n",
      "S (18746,)\n",
      "T_param (18746, 22)\n",
      "F (37500, 3)\n"
     ]
    }
   ],
   "source": [
    "abc_old = '/data/fz20/dataset/ABC-old/ABC/val_final/00000065_767e4372b5f94a88a7a17d90.npz'\n",
    "abc_old_dict = np.load(abc_old)\n",
    "for key, value in abc_old_dict.items():\n",
    "    print(key, value.shape)"
   ]
  },
  {
   "cell_type": "code",
   "execution_count": 7,
   "metadata": {},
   "outputs": [
    {
     "name": "stdout",
     "output_type": "stream",
     "text": [
      "V (18746, 3)\n",
      "N (18746, 3)\n",
      "B (18746,)\n",
      "L (18746,)\n",
      "S (18746,)\n",
      "T_param (18746, 22)\n",
      "F (37500, 3)\n",
      "edges (18746,)\n"
     ]
    },
    {
     "ename": "",
     "evalue": "",
     "output_type": "error",
     "traceback": [
      "\u001b[1;31mThe Kernel crashed while executing code in the the current cell or a previous cell. Please review the code in the cell(s) to identify a possible cause of the failure. Click <a href='https://aka.ms/vscodeJupyterKernelCrash'>here</a> for more info. View Jupyter <a href='command:jupyter.viewOutput'>log</a> for further details."
     ]
    }
   ],
   "source": [
    "abc_old_edges = '/data/fz20/dataset/ABC-old/ABC_edges/val_final/00000065_767e4372b5f94a88a7a17d90.npz'\n",
    "abc_old_edges_dict = np.load(abc_old_edges, allow_pickle=True)\n",
    "for key, value in abc_old_edges_dict.items():\n",
    "    print(key, value.shape)"
   ]
  },
  {
   "cell_type": "code",
   "execution_count": 8,
   "metadata": {},
   "outputs": [
    {
     "data": {
      "text/plain": [
       "True"
      ]
     },
     "execution_count": 8,
     "metadata": {},
     "output_type": "execute_result"
    }
   ],
   "source": [
    "cad_root = '/data1/fz20/dataset/sp_dataset/val_final/00000006_d4fe04f0f5f84b52bd4f10e4.npz'\n",
    "cad_dict = np.load(cad_root)\n",
    "# for key, value in cad_dict.items():\n",
    "#     print(key, value.shape)\n",
    "v, semantic = cad_dict['V'], cad_dict['semantic']\n",
    "# 可视化语义标签\n",
    "import open3d as o3d\n",
    "pcd = o3d.geometry.PointCloud()\n",
    "pcd.points = o3d.utility.Vector3dVector(v)\n",
    "colors = np.random.uniform(0, 1, size=(len(v), 3))\n",
    "pcd.colors = o3d.utility.Vector3dVector(colors[semantic])\n",
    "o3d.io.write_point_cloud('test-semantic.ply', pcd)"
   ]
  }
 ],
 "metadata": {
  "kernelspec": {
   "display_name": "env1",
   "language": "python",
   "name": "python3"
  },
  "language_info": {
   "codemirror_mode": {
    "name": "ipython",
    "version": 3
   },
   "file_extension": ".py",
   "mimetype": "text/x-python",
   "name": "python",
   "nbconvert_exporter": "python",
   "pygments_lexer": "ipython3",
   "version": "3.7.13"
  },
  "orig_nbformat": 4
 },
 "nbformat": 4,
 "nbformat_minor": 2
}
